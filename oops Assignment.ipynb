{
 "cells": [
  {
   "cell_type": "markdown",
   "id": "539ffcbe",
   "metadata": {},
   "source": [
    "# 1) Five key concepts of Object-Oriented Programming (OOP):"
   ]
  },
  {
   "cell_type": "markdown",
   "id": "321ef62b",
   "metadata": {},
   "source": [
    "Encapsulation: Wrapping data (variables) and code (methods) together in a single unit (class). It restricts direct access to data to ensure controlled modification.\n",
    "Abstraction: Hiding complex implementation details and exposing only the necessary functionality to the user.\n",
    "Inheritance: A class (child) inherits properties and behavior from another class (parent), promoting code reusability.\n",
    "Polymorphism: The ability of objects of different types to respond to the same method call, each in their way. This can be achieved via method overriding or operator overloading.\n",
    "Classes and Objects: Classes act as blueprints for creating objects, and objects are instances of classes.\n"
   ]
  },
  {
   "cell_type": "markdown",
   "id": "6f140f11",
   "metadata": {},
   "source": [
    "# 2) Python class for a Car with attributes and a method:"
   ]
  },
  {
   "cell_type": "code",
   "execution_count": 1,
   "id": "7760790f",
   "metadata": {},
   "outputs": [
    {
     "name": "stdout",
     "output_type": "stream",
     "text": [
      "Car: 2020 Toyota Corolla\n"
     ]
    }
   ],
   "source": [
    "class Car:\n",
    "    def __init__(self, make, model, year):\n",
    "        self.make = make\n",
    "        self.model = model\n",
    "        self.year = year\n",
    "\n",
    "    def display_info(self):\n",
    "        print(f\"Car: {self.year} {self.make} {self.model}\")\n",
    "        \n",
    "my_car = Car(\"Toyota\", \"Corolla\", 2020)\n",
    "my_car.display_info()"
   ]
  },
  {
   "cell_type": "markdown",
   "id": "ee55c0fa",
   "metadata": {},
   "source": [
    "# 3) Instance methods vs Class methods:"
   ]
  },
  {
   "cell_type": "markdown",
   "id": "16aaeb8a",
   "metadata": {},
   "source": [
    "Instance methods: Operate on the instance of the class and can access and modify instance attributes.\n",
    "Class methods: Belong to the class rather than any specific instance and can modify class-level attributes."
   ]
  },
  {
   "cell_type": "code",
   "execution_count": 2,
   "id": "47df67cc",
   "metadata": {},
   "outputs": [
    {
     "name": "stdout",
     "output_type": "stream",
     "text": [
      "Instance method called: 10\n",
      "Class method called: 1\n"
     ]
    }
   ],
   "source": [
    "class Example:\n",
    "    class_counter = 0 \n",
    "    \n",
    "    def __init__(self, value):\n",
    "        self.value = value  \n",
    "        Example.class_counter += 1\n",
    "\n",
    "    def instance_method(self): \n",
    "        print(f\"Instance method called: {self.value}\")\n",
    "        \n",
    "    @classmethod\n",
    "    def class_method(cls):  \n",
    "        print(f\"Class method called: {cls.class_counter}\")\n",
    "\n",
    "\n",
    "obj1 = Example(10)\n",
    "obj1.instance_method()  \n",
    "Example.class_method()   "
   ]
  },
  {
   "cell_type": "markdown",
   "id": "6ee4437f",
   "metadata": {},
   "source": [
    "# 4) Python and method overloading:"
   ]
  },
  {
   "cell_type": "code",
   "execution_count": null,
   "id": "b609b963",
   "metadata": {},
   "outputs": [],
   "source": [
    "Python doesn’t support method overloading directly. Instead, we can achieve similar behavior using default or variable-length arguments."
   ]
  },
  {
   "cell_type": "code",
   "execution_count": 3,
   "id": "a20b8eba",
   "metadata": {},
   "outputs": [
    {
     "name": "stdout",
     "output_type": "stream",
     "text": [
      "3\n",
      "6\n"
     ]
    }
   ],
   "source": [
    "class Example:\n",
    "    def add(self, a, b, c=None):\n",
    "        if c:\n",
    "            return a + b + c\n",
    "        return a + b\n",
    "\n",
    "e = Example()\n",
    "print(e.add(1, 2))     # Output: 3\n",
    "print(e.add(1, 2, 3))  # Output: 6"
   ]
  },
  {
   "cell_type": "markdown",
   "id": "4ce460e8",
   "metadata": {},
   "source": [
    "# 5) Three types of access modifiers in Python:"
   ]
  },
  {
   "cell_type": "markdown",
   "id": "2e523b42",
   "metadata": {},
   "source": [
    "Public: No special prefix (e.g., variable).\n",
    "Protected: Single underscore _variable.\n",
    "Private: Double underscore __variable."
   ]
  },
  {
   "cell_type": "markdown",
   "id": "659e51f0",
   "metadata": {},
   "source": [
    "# 6) Five types of inheritance in Python and example of multiple inheritance:"
   ]
  },
  {
   "cell_type": "markdown",
   "id": "1b9e074c",
   "metadata": {},
   "source": [
    "Single inheritance: One child class inherits from one parent class.\n",
    "Multiple inheritance: A child class inherits from more than one parent class.\n",
    "Multilevel inheritance: A class inherits from a child class, which in turn inherits from another class.\n",
    "Hierarchical inheritance: Multiple child classes inherit from the same parent class.\n",
    "Hybrid inheritance: A combination of different types of inheritance."
   ]
  },
  {
   "cell_type": "code",
   "execution_count": 6,
   "id": "218fe3b2",
   "metadata": {},
   "outputs": [
    {
     "name": "stdout",
     "output_type": "stream",
     "text": [
      "Method from class A\n",
      "Method from class B\n"
     ]
    }
   ],
   "source": [
    "class A:\n",
    "    def method_a(self):\n",
    "        print(\"Method from class A\")\n",
    "\n",
    "class B:\n",
    "    def method_b(self):\n",
    "        print(\"Method from class B\")\n",
    "\n",
    "class C(A, B):\n",
    "    pass\n",
    "\n",
    "obj = C()\n",
    "obj.method_a() \n",
    "obj.method_b()  "
   ]
  },
  {
   "cell_type": "markdown",
   "id": "02286134",
   "metadata": {},
   "source": [
    "# 7)  Method Resolution Order (MRO):"
   ]
  },
  {
   "cell_type": "markdown",
   "id": "23ca37d6",
   "metadata": {},
   "source": [
    "MRO is the order in which Python looks for a method in a hierarchy of classes. It can be retrieved using ClassName.mro() or ClassName.__mro__."
   ]
  },
  {
   "cell_type": "code",
   "execution_count": 5,
   "id": "5e2f4d46",
   "metadata": {},
   "outputs": [
    {
     "name": "stdout",
     "output_type": "stream",
     "text": [
      "[<class '__main__.C'>, <class '__main__.A'>, <class '__main__.B'>, <class 'object'>]\n"
     ]
    }
   ],
   "source": [
    "print(C.mro())"
   ]
  },
  {
   "cell_type": "markdown",
   "id": "08abf86c",
   "metadata": {},
   "source": [
    "# 8) Abstract base class Shape with subclasses:"
   ]
  },
  {
   "cell_type": "code",
   "execution_count": 7,
   "id": "2fa425b7",
   "metadata": {},
   "outputs": [
    {
     "name": "stdout",
     "output_type": "stream",
     "text": [
      "78.5\n",
      "24\n"
     ]
    }
   ],
   "source": [
    "from abc import ABC, abstractmethod\n",
    "\n",
    "class Shape(ABC):\n",
    "    @abstractmethod\n",
    "    def area(self):\n",
    "        pass\n",
    "\n",
    "class Circle(Shape):\n",
    "    def __init__(self, radius):\n",
    "        self.radius = radius\n",
    "        \n",
    "    def area(self):\n",
    "        return 3.14 * self.radius ** 2\n",
    "\n",
    "class Rectangle(Shape):\n",
    "    def __init__(self, width, height):\n",
    "        self.width = width\n",
    "        self.height = height\n",
    "        \n",
    "    def area(self):\n",
    "        return self.width * self.height\n",
    "\n",
    "circle = Circle(5)\n",
    "rectangle = Rectangle(4, 6)\n",
    "print(circle.area()) \n",
    "print(rectangle.area())  "
   ]
  },
  {
   "cell_type": "markdown",
   "id": "25e3c8b0",
   "metadata": {},
   "source": [
    "# 9) Polymorphism with shapes:"
   ]
  },
  {
   "cell_type": "code",
   "execution_count": 8,
   "id": "344913ee",
   "metadata": {},
   "outputs": [
    {
     "name": "stdout",
     "output_type": "stream",
     "text": [
      "Area: 28.26\n",
      "Area: 20\n"
     ]
    }
   ],
   "source": [
    "def print_area(shape):\n",
    "    print(f\"Area: {shape.area()}\")\n",
    "\n",
    "shapes = [Circle(3), Rectangle(4, 5)]\n",
    "for shape in shapes:\n",
    "    print_area(shape)"
   ]
  },
  {
   "cell_type": "markdown",
   "id": "ee241a42",
   "metadata": {},
   "source": [
    "# 10) Encapsulation in BankAccount class:"
   ]
  },
  {
   "cell_type": "code",
   "execution_count": 9,
   "id": "4a1ca08d",
   "metadata": {},
   "outputs": [
    {
     "name": "stdout",
     "output_type": "stream",
     "text": [
      "1300\n"
     ]
    }
   ],
   "source": [
    "class BankAccount:\n",
    "    def __init__(self, account_number, balance=0):\n",
    "        self.__account_number = account_number\n",
    "        self.__balance = balance\n",
    "        \n",
    "    def deposit(self, amount):\n",
    "        if amount > 0:\n",
    "            self.__balance += amount\n",
    "    \n",
    "    def withdraw(self, amount):\n",
    "        if amount <= self.__balance:\n",
    "            self.__balance -= amount\n",
    "    \n",
    "    def balance_inquiry(self):\n",
    "        return self.__balance\n",
    "\n",
    "account = BankAccount(\"12345678\", 1000)\n",
    "account.deposit(500)\n",
    "account.withdraw(200)\n",
    "print(account.balance_inquiry())  "
   ]
  },
  {
   "cell_type": "markdown",
   "id": "b233d47e",
   "metadata": {},
   "source": [
    "# 11) Overriding __str__ and __add__ magic methods:"
   ]
  },
  {
   "cell_type": "code",
   "execution_count": 10,
   "id": "76fa7381",
   "metadata": {},
   "outputs": [
    {
     "name": "stdout",
     "output_type": "stream",
     "text": [
      "Point(4, 6)\n"
     ]
    }
   ],
   "source": [
    "class Point:\n",
    "    def __init__(self, x, y):\n",
    "        self.x = x\n",
    "        self.y = y\n",
    "        \n",
    "    def __str__(self):\n",
    "        return f\"Point({self.x}, {self.y})\"\n",
    "    \n",
    "    def __add__(self, other):\n",
    "        return Point(self.x + other.x, self.y + other.y)\n",
    "\n",
    "p1 = Point(1, 2)\n",
    "p2 = Point(3, 4)\n",
    "print(p1 + p2)  "
   ]
  },
  {
   "cell_type": "markdown",
   "id": "a7a7de0a",
   "metadata": {},
   "source": [
    "# 12) Decorator to measure function execution time:"
   ]
  },
  {
   "cell_type": "code",
   "execution_count": 12,
   "id": "84da7b45",
   "metadata": {},
   "outputs": [
    {
     "name": "stdout",
     "output_type": "stream",
     "text": [
      "Execution time: 2.000713348388672 seconds\n"
     ]
    }
   ],
   "source": [
    "import time\n",
    "\n",
    "def time_decorator(func):\n",
    "    def wrapper(*args, **kwargs):\n",
    "        start_time = time.time()\n",
    "        result = func(*args, **kwargs)\n",
    "        end_time = time.time()\n",
    "        print(f\"Execution time: {end_time - start_time} seconds\")\n",
    "        return result\n",
    "    return wrapper\n",
    "\n",
    "@time_decorator\n",
    "def sample_function():\n",
    "    time.sleep(2)\n",
    "\n",
    "sample_function()"
   ]
  },
  {
   "cell_type": "markdown",
   "id": "1242b188",
   "metadata": {},
   "source": [
    "# 13) Diamond Problem in multiple inheritance and Python’s resolution:"
   ]
  },
  {
   "cell_type": "markdown",
   "id": "0ec41484",
   "metadata": {},
   "source": [
    "The Diamond Problem occurs when a class inherits from two classes that have a common ancestor, causing ambiguity in method resolution.\n",
    "\n",
    "Python resolves this using the MRO (Method Resolution Order) with the C3 Linearization algorithm."
   ]
  },
  {
   "cell_type": "code",
   "execution_count": 13,
   "id": "e42168ce",
   "metadata": {},
   "outputs": [
    {
     "name": "stdout",
     "output_type": "stream",
     "text": [
      "Method in A\n",
      "[<class '__main__.D'>, <class '__main__.B'>, <class '__main__.C'>, <class '__main__.A'>, <class 'object'>]\n"
     ]
    }
   ],
   "source": [
    "class A:\n",
    "    def method(self):\n",
    "        print(\"Method in A\")\n",
    "\n",
    "class B(A):\n",
    "    pass\n",
    "\n",
    "class C(A):\n",
    "    pass\n",
    "\n",
    "class D(B, C):\n",
    "    pass\n",
    "\n",
    "d = D()\n",
    "d.method()  \n",
    "print(D.mro()) "
   ]
  },
  {
   "cell_type": "markdown",
   "id": "104dc7cd",
   "metadata": {},
   "source": [
    "# 14) Class method tracking instance count:"
   ]
  },
  {
   "cell_type": "code",
   "execution_count": 15,
   "id": "f25b1bca",
   "metadata": {},
   "outputs": [
    {
     "name": "stdout",
     "output_type": "stream",
     "text": [
      "2\n"
     ]
    }
   ],
   "source": [
    "class InstanceCounter:\n",
    "    instance_count = 0\n",
    "    \n",
    "    def __init__(self):\n",
    "        InstanceCounter.instance_count += 1\n",
    "        \n",
    "    @classmethod\n",
    "    def get_instance_count(cls):\n",
    "        return cls.instance_count\n",
    "\n",
    "a = InstanceCounter()\n",
    "b = InstanceCounter()\n",
    "print(InstanceCounter.get_instance_count())  "
   ]
  },
  {
   "cell_type": "markdown",
   "id": "8019c8f7",
   "metadata": {},
   "source": [
    "# 15) Static method to check if a year is a leap year:"
   ]
  },
  {
   "cell_type": "code",
   "execution_count": 16,
   "id": "1aef8b10",
   "metadata": {},
   "outputs": [
    {
     "name": "stdout",
     "output_type": "stream",
     "text": [
      "True\n"
     ]
    }
   ],
   "source": [
    "class Calendar:\n",
    "    @staticmethod\n",
    "    def is_leap_year(year):\n",
    "        if (year % 4 == 0 and year % 100 != 0) or (year % 400 == 0):\n",
    "            return True\n",
    "        return False\n",
    "\n",
    "print(Calendar.is_leap_year(2024))  "
   ]
  }
 ],
 "metadata": {
  "kernelspec": {
   "display_name": "Python 3 (ipykernel)",
   "language": "python",
   "name": "python3"
  },
  "language_info": {
   "codemirror_mode": {
    "name": "ipython",
    "version": 3
   },
   "file_extension": ".py",
   "mimetype": "text/x-python",
   "name": "python",
   "nbconvert_exporter": "python",
   "pygments_lexer": "ipython3",
   "version": "3.11.3"
  }
 },
 "nbformat": 4,
 "nbformat_minor": 5
}
